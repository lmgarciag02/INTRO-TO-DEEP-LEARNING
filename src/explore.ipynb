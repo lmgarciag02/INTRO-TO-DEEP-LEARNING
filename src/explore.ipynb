{
    "cells": [
        {
            "cell_type": "markdown",
            "metadata": {},
            "source": [
                "# Proyecto de Sistema de clasificación de imágenes"
            ]
        },
        {
            "cell_type": "code",
            "execution_count": null,
            "metadata": {},
            "outputs": [],
            "source": [
                "import os\n",
                "import numpy as np\n",
                "import matplotlib.pyplot as plt\n",
                "from tensorflow import keras\n",
                "from tensorflow.keras.preprocessing import image "
            ]
        },
        {
            "cell_type": "code",
            "execution_count": null,
            "metadata": {},
            "outputs": [],
            "source": [
                "# Ruta al directorio de imágenes\n",
                "data_dir = \"../data/train\"\n",
                "dog_subfolder = os.path.join(data_dir, \"dog\")\n",
                "\n",
                "# Lista de nombres de archivos de imagen en la subcarpeta\n",
                "dog_image_files = os.listdir(dog_subfolder)\n",
                "\n",
                "# Cargar las primeras nueve imágenes de perros\n",
                "dog_images = []\n",
                "for i in range(9):\n",
                "    img_path = os.path.join(dog_subfolder, dog_image_files[i])\n",
                "    img = image.load_img(img_path, target_size=(224, 224))  # Redimensionar si es necesario\n",
                "    img_array = image.img_to_array(img)\n",
                "    img_array /= 255.0  # Normalizar a [0, 1]\n",
                "    dog_images.append(img_array)\n",
                "\n",
                "# Mostrar las imágenes en una sola figura\n",
                "plt.figure(figsize=(12, 8))\n",
                "for i in range(9):\n",
                "    plt.subplot(3, 3, i + 1)\n",
                "    plt.imshow(dog_images[i])\n",
                "    plt.title('Dog Image')\n",
                "    plt.axis('off')\n",
                "\n",
                "plt.tight_layout()\n",
                "plt.show()"
            ]
        },
        {
            "cell_type": "code",
            "execution_count": null,
            "metadata": {},
            "outputs": [],
            "source": [
                "# Ruta al directorio base\n",
                "data_dir = \"../data/train\"\n",
                "cats_subfolder = os.path.join(data_dir, \"cat\")\n",
                "\n",
                "# Obtener lista de archivos de imagen\n",
                "cats_image_files = os.listdir(cats_subfolder)\n",
                "\n",
                "# Cargar hasta 9 imágenes de gatos\n",
                "cats_images = []\n",
                "for i in range(min(9, len(cats_image_files))):\n",
                "    img_path = os.path.join(cats_subfolder, cats_image_files[i])\n",
                "    img = image.load_img(img_path, target_size=(224, 224))  # Redimensionar si se desea\n",
                "    img_array = image.img_to_array(img)\n",
                "    img_array /= 255.0  # Normalizar a [0, 1]\n",
                "    cats_images.append(img_array)\n",
                "\n",
                "# Visualizar las imágenes\n",
                "plt.figure(figsize=(12, 8))\n",
                "for i in range(len(cats_images)):\n",
                "    plt.subplot(3, 3, i + 1)\n",
                "    plt.imshow(cats_images[i])\n",
                "    plt.title('Cat Image')\n",
                "    plt.axis('off')\n",
                "\n",
                "plt.tight_layout()\n",
                "plt.show()"
            ]
        },
        {
            "cell_type": "code",
            "execution_count": null,
            "metadata": {},
            "outputs": [],
            "source": [
                "from tensorflow.keras.preprocessing.image import ImageDataGenerator\n",
                "\n",
                "# Definir parámetros\n",
                "base_dir = \"../data\"\n",
                "img_size = (220, 220)\n",
                "batch = 32\n",
                "mode = \"categorical\"\n",
                "\n",
                "# Crear generadores para entrenamiento y prueba\n",
                "train_gen = ImageDataGenerator(rescale=1./255)\n",
                "test_gen = ImageDataGenerator(rescale=1./255)\n",
                "\n",
                "# Preparar datasets usando los generadores\n",
                "train_data = train_gen.flow_from_directory(\n",
                "    directory=os.path.join(base_dir, \"train\"),\n",
                "    target_size=img_size,\n",
                "    batch_size=batch,\n",
                "    class_mode=mode\n",
                ")\n",
                "\n",
                "test_data = test_gen.flow_from_directory(\n",
                "    directory=os.path.join(base_dir, \"train\"),  # usa el mismo dir, pero puede cambiarse\n",
                "    target_size=img_size,\n",
                "    batch_size=batch,\n",
                "    class_mode=mode\n",
                ")"
            ]
        }
    ],
    "metadata": {
        "kernelspec": {
            "display_name": "Python 3",
            "language": "python",
            "name": "python3"
        },
        "language_info": {
            "codemirror_mode": {
                "name": "ipython",
                "version": 3
            },
            "file_extension": ".py",
            "mimetype": "text/x-python",
            "name": "python",
            "nbconvert_exporter": "python",
            "pygments_lexer": "ipython3",
            "version": "3.11.4"
        },
        "orig_nbformat": 4
    },
    "nbformat": 4,
    "nbformat_minor": 2
}
