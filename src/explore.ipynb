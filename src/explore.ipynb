{
    "cells": [
        {
            "cell_type": "markdown",
            "metadata": {},
            "source": [
                "# Proyecto de Sistema de clasificación de imágenes"
            ]
        },
        {
            "cell_type": "code",
            "execution_count": 4,
            "metadata": {},
            "outputs": [
                {
                    "name": "stderr",
                    "output_type": "stream",
                    "text": [
                        "2025-05-13 02:08:17.082177: I external/local_xla/xla/tsl/cuda/cudart_stub.cc:32] Could not find cuda drivers on your machine, GPU will not be used.\n",
                        "2025-05-13 02:08:17.308091: I external/local_xla/xla/tsl/cuda/cudart_stub.cc:32] Could not find cuda drivers on your machine, GPU will not be used.\n",
                        "2025-05-13 02:08:17.405507: E external/local_xla/xla/stream_executor/cuda/cuda_fft.cc:467] Unable to register cuFFT factory: Attempting to register factory for plugin cuFFT when one has already been registered\n",
                        "WARNING: All log messages before absl::InitializeLog() is called are written to STDERR\n",
                        "E0000 00:00:1747102097.533448    2424 cuda_dnn.cc:8579] Unable to register cuDNN factory: Attempting to register factory for plugin cuDNN when one has already been registered\n",
                        "E0000 00:00:1747102097.567620    2424 cuda_blas.cc:1407] Unable to register cuBLAS factory: Attempting to register factory for plugin cuBLAS when one has already been registered\n",
                        "W0000 00:00:1747102097.818658    2424 computation_placer.cc:177] computation placer already registered. Please check linkage and avoid linking the same target more than once.\n",
                        "W0000 00:00:1747102097.818703    2424 computation_placer.cc:177] computation placer already registered. Please check linkage and avoid linking the same target more than once.\n",
                        "W0000 00:00:1747102097.818708    2424 computation_placer.cc:177] computation placer already registered. Please check linkage and avoid linking the same target more than once.\n",
                        "W0000 00:00:1747102097.818712    2424 computation_placer.cc:177] computation placer already registered. Please check linkage and avoid linking the same target more than once.\n",
                        "2025-05-13 02:08:17.849716: I tensorflow/core/platform/cpu_feature_guard.cc:210] This TensorFlow binary is optimized to use available CPU instructions in performance-critical operations.\n",
                        "To enable the following instructions: AVX2 FMA, in other operations, rebuild TensorFlow with the appropriate compiler flags.\n"
                    ]
                }
            ],
            "source": [
                "import os\n",
                "import numpy as np\n",
                "import matplotlib.pyplot as plt\n",
                "from tensorflow import keras\n",
                "from keras.preprocessing import image"
            ]
        },
        {
            "cell_type": "code",
            "execution_count": 5,
            "metadata": {},
            "outputs": [
                {
                    "ename": "NameError",
                    "evalue": "name 'sistema_operativo' is not defined",
                    "output_type": "error",
                    "traceback": [
                        "\u001b[31m---------------------------------------------------------------------------\u001b[39m",
                        "\u001b[31mNameError\u001b[39m                                 Traceback (most recent call last)",
                        "\u001b[36mCell\u001b[39m\u001b[36m \u001b[39m\u001b[32mIn[5]\u001b[39m\u001b[32m, line 3\u001b[39m\n\u001b[32m      1\u001b[39m ruta_datos = \u001b[33m\"\u001b[39m\u001b[33m../data/train\u001b[39m\u001b[33m\"\u001b[39m\n\u001b[32m----> \u001b[39m\u001b[32m3\u001b[39m carpeta_perros = \u001b[43msistema_operativo\u001b[49m.path.join(ruta_datos, \u001b[33m\"\u001b[39m\u001b[33mdog\u001b[39m\u001b[33m\"\u001b[39m)\n\u001b[32m      5\u001b[39m archivos_imagenes_perro = sistema_operativo.listdir(carpeta_perros)\n\u001b[32m      7\u001b[39m imagenes_perro = []\n",
                        "\u001b[31mNameError\u001b[39m: name 'sistema_operativo' is not defined"
                    ]
                }
            ],
            "source": [
                "ruta_datos = \"../data/train\"\n",
                "\n",
                "carpeta_perros = sistema_operativo.path.join(ruta_datos, \"dog\")\n",
                "\n",
                "archivos_imagenes_perro = sistema_operativo.listdir(carpeta_perros)\n",
                "\n",
                "imagenes_perro = []\n",
                "for indice in range(9):\n",
                "    ruta_imagen = sistema_operativo.path.join(carpeta_perros, archivos_imagenes_perro[indice])\n",
                "    imagen_cargada = img.load_img(ruta_imagen)\n",
                "    arreglo_imagen = img.img_to_array(imagen_cargada) / 255.0\n",
                "    imagenes_perro.append(arreglo_imagen)\n",
                "\n",
                "plt.figure(figsize=(12, 8))\n",
                "\n",
                "for indice in range(9):\n",
                "    plt.subplot(3, 3, indice + 1)\n",
                "    plt.imshow(imagenes_perro[indice])\n",
                "    plt.title('Dog Image')\n",
                "    plt.axis('off')\n",
                "\n",
                "plt.tight_layout()\n",
                "plt.show()\n"
            ]
        }
    ],
    "metadata": {
        "kernelspec": {
            "display_name": "Python 3",
            "language": "python",
            "name": "python3"
        },
        "language_info": {
            "codemirror_mode": {
                "name": "ipython",
                "version": 3
            },
            "file_extension": ".py",
            "mimetype": "text/x-python",
            "name": "python",
            "nbconvert_exporter": "python",
            "pygments_lexer": "ipython3",
            "version": "3.11.4"
        },
        "orig_nbformat": 4
    },
    "nbformat": 4,
    "nbformat_minor": 2
}
